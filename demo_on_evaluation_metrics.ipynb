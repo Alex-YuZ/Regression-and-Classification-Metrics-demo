{
 "cells": [
  {
   "cell_type": "markdown",
   "metadata": {},
   "source": [
    "# Demo on Evaluation Metrics for Regression and Classification Modeling\n"
   ]
  },
  {
   "cell_type": "markdown",
   "metadata": {},
   "source": [
    "## Regression Metrics\n",
    "\n",
    "There are three common metrics on regression models, i.e.,  \n",
    "- **Mean of Absolute Errors**\n",
    "- **Mean of Squared Errors**\n",
    "- **R_2 Score**\n",
    "\n",
    "sklearn has all of them:\n",
    "\n",
    "`from sklearn.metrics import r2_score, mean_squared_error, mean_absolute_error`"
   ]
  },
  {
   "cell_type": "markdown",
   "metadata": {},
   "source": [
    "For the demonstration purpo"
   ]
  }
 ],
 "metadata": {
  "kernelspec": {
   "display_name": "Python 3",
   "language": "python",
   "name": "python3"
  },
  "language_info": {
   "codemirror_mode": {
    "name": "ipython",
    "version": 3
   },
   "file_extension": ".py",
   "mimetype": "text/x-python",
   "name": "python",
   "nbconvert_exporter": "python",
   "pygments_lexer": "ipython3",
   "version": "3.7.9"
  }
 },
 "nbformat": 4,
 "nbformat_minor": 4
}
